{
 "cells": [
  {
   "cell_type": "markdown",
   "id": "dd452b9f-70b9-459d-b435-ae33bdf69be7",
   "metadata": {},
   "source": [
    "![](all_functions.png)"
   ]
  },
  {
   "cell_type": "markdown",
   "id": "a6d78931-0f39-4abb-a74b-432dde193d7b",
   "metadata": {},
   "source": [
    "# Sigmoid Function\n",
    "1. Graph\n",
    "2. Equation\n",
    "![](sigmoid.png)"
   ]
  },
  {
   "cell_type": "markdown",
   "id": "fe007d71-69e3-4af8-b1ed-8faa025bf5cd",
   "metadata": {},
   "source": [
    "# TanH\n",
    "1. Graph \n",
    "2. Equation\n",
    "3. ![](tanh.png)"
   ]
  },
  {
   "cell_type": "markdown",
   "id": "b4896be7-d1a3-4799-88ca-0becc2c186e7",
   "metadata": {},
   "source": [
    "# ReLU\n",
    "1. Graph \n",
    "2. Equation\n",
    "3. ![](relu.png)"
   ]
  },
  {
   "cell_type": "markdown",
   "id": "8882a1d0-6200-48ac-9591-86ceacda7544",
   "metadata": {},
   "source": [
    "# ReLU\n",
    "1. Graph \n",
    "2. Equation\n",
    "3. ![](lrelu.png)"
   ]
  }
 ],
 "metadata": {
  "kernelspec": {
   "display_name": "Python 3 (ipykernel)",
   "language": "python",
   "name": "python3"
  },
  "language_info": {
   "codemirror_mode": {
    "name": "ipython",
    "version": 3
   },
   "file_extension": ".py",
   "mimetype": "text/x-python",
   "name": "python",
   "nbconvert_exporter": "python",
   "pygments_lexer": "ipython3",
   "version": "3.11.7"
  }
 },
 "nbformat": 4,
 "nbformat_minor": 5
}
