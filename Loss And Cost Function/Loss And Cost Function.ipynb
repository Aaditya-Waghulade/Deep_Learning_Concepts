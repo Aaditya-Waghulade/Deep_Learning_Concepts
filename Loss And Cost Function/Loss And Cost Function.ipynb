{
 "cells": [
  {
   "cell_type": "markdown",
   "id": "cbad7cd8-62fc-4e12-8ba4-48c69dbbb0cb",
   "metadata": {},
   "source": [
    "# Types of Losses\n",
    "![](types_of_loss.png)"
   ]
  },
  {
   "cell_type": "markdown",
   "id": "c0becd15-9275-46fb-b4c9-66ba0765b3ee",
   "metadata": {},
   "source": [
    "# Types of Errors with Code\n",
    "![](types_of_errors.png)}"
   ]
  },
  {
   "cell_type": "markdown",
   "id": "795a55b3-48ea-4ffd-ba25-d4187b8418c7",
   "metadata": {},
   "source": [
    "# Loss Example\n",
    "![](loss_example.png)"
   ]
  },
  {
   "cell_type": "markdown",
   "id": "e1577099-ecbd-4518-9ce1-98659b689bb5",
   "metadata": {},
   "source": [
    "# ![](Loss_&_Cost_Error.png)"
   ]
  },
  {
   "cell_type": "code",
   "execution_count": 3,
   "id": "299aae3d-416d-4175-8bd6-fd5237a8adeb",
   "metadata": {},
   "outputs": [],
   "source": [
    "import numpy as np\n",
    "y_predicted = np.array([1,1,0,0,1])\n",
    "y_true = np.array([0.30,0.7,1,0,0.5])"
   ]
  },
  {
   "cell_type": "markdown",
   "id": "dd564dbb-1338-43e7-a734-ae510d3250c9",
   "metadata": {},
   "source": [
    "# 1) Mean Absolute Error first"
   ]
  },
  {
   "cell_type": "code",
   "execution_count": 22,
   "id": "e68a2be4-5879-43bd-b6d4-1bb52dc71c76",
   "metadata": {},
   "outputs": [],
   "source": [
    "def mae(y_true,y_predicted):\n",
    "    total_error = 0 #Initialising total_error number as 0\n",
    "    for yp,yt in zip(y_predicted,y_true): #Calling all values from y_predcited and y_true by for loop\n",
    "        abs(yt-yp)#absolute difference betwn true and predicted\n",
    "        total_error += abs(yt-yp) #adding abs value to our total_error\n",
    "    print(\"Total Error : \" ,total_error)\n",
    "    mae = total_error/len(y_true)\n",
    "    print(\"MAE:\", mae)"
   ]
  },
  {
   "cell_type": "code",
   "execution_count": 23,
   "id": "afad0f09-6289-4157-b47a-3287066f2196",
   "metadata": {},
   "outputs": [
    {
     "name": "stdout",
     "output_type": "stream",
     "text": [
      "Total Error :  2.5\n",
      "MAE: 0.5\n"
     ]
    }
   ],
   "source": [
    "mae(y_true, y_predicted)"
   ]
  },
  {
   "cell_type": "code",
   "execution_count": 26,
   "id": "201e168a-26c0-4c10-8e33-8f3c5f8b5f08",
   "metadata": {},
   "outputs": [
    {
     "data": {
      "text/plain": [
       "0.5"
      ]
     },
     "execution_count": 26,
     "metadata": {},
     "output_type": "execute_result"
    }
   ],
   "source": [
    "# Now Making same thing with numpy\n",
    "abs(y_predicted-y_true).mean()"
   ]
  },
  {
   "cell_type": "code",
   "execution_count": 44,
   "id": "eb228aa8-9d46-4d94-9522-c8f3bd5339c1",
   "metadata": {},
   "outputs": [
    {
     "data": {
      "text/plain": [
       "0.25"
      ]
     },
     "execution_count": 44,
     "metadata": {},
     "output_type": "execute_result"
    }
   ],
   "source": [
    "#Exercise Means-Squared-Error with np\n",
    "(abs(y_predicted-y_true).mean())**2"
   ]
  },
  {
   "cell_type": "code",
   "execution_count": null,
   "id": "cabb528e-dfef-4d54-890d-fdb9463c1dd0",
   "metadata": {},
   "outputs": [],
   "source": []
  },
  {
   "cell_type": "code",
   "execution_count": null,
   "id": "4c823f44-aa14-41d1-9e8e-f5d69d399b0f",
   "metadata": {},
   "outputs": [],
   "source": []
  }
 ],
 "metadata": {
  "kernelspec": {
   "display_name": "Python 3 (ipykernel)",
   "language": "python",
   "name": "python3"
  },
  "language_info": {
   "codemirror_mode": {
    "name": "ipython",
    "version": 3
   },
   "file_extension": ".py",
   "mimetype": "text/x-python",
   "name": "python",
   "nbconvert_exporter": "python",
   "pygments_lexer": "ipython3",
   "version": "3.11.7"
  }
 },
 "nbformat": 4,
 "nbformat_minor": 5
}
