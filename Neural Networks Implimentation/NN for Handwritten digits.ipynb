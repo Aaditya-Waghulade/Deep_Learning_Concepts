{
 "cells": [
  {
   "cell_type": "markdown",
   "id": "4e4fa265-0631-4e1a-a4f4-04bd5dd0de1b",
   "metadata": {},
   "source": [
    "### We will First import important files and then we will do certain steps\n",
    "1. First we will train and test the samples\n",
    "2. Then will check the shapes of both train and test od both X and y as well\n",
    "3. The for making Neural Network to classify the digits from 0 to 9 we have to make each trained 28x28 matrix into a single matrix\n",
    "4. then we will Apply neural networks as\n",
    "### Implimenting Neural Network Steps \n",
    "1. First we will define Sequential Model from keras and we will define the input layer total shape and output number as a 'Dense' .\n",
    "2. Second we will compile our Made neural Network model.\n",
    "3. Third we will fit the model which we have compiled with the certain parameteres such as 'loss','optimizers' and etc"
   ]
  },
  {
   "cell_type": "markdown",
   "id": "5610381d-2a94-470b-8290-c0e476448332",
   "metadata": {},
   "source": [
    "![](digits_nn.jpg)}"
   ]
  },
  {
   "cell_type": "markdown",
   "id": "27ced1a4-d03a-4a69-8b77-b0bf26a1c82f",
   "metadata": {},
   "source": [
    "# Using Digits Data sets only for Learning Purpose"
   ]
  },
  {
   "cell_type": "code",
   "execution_count": 3,
   "id": "045a9b4b-f69c-4f1b-9077-d720aa0868c3",
   "metadata": {},
   "outputs": [
    {
     "name": "stderr",
     "output_type": "stream",
     "text": [
      "2024-07-18 14:19:00.771646: I tensorflow/core/platform/cpu_feature_guard.cc:210] This TensorFlow binary is optimized to use available CPU instructions in performance-critical operations.\n",
      "To enable the following instructions: AVX2 FMA, in other operations, rebuild TensorFlow with the appropriate compiler flags.\n"
     ]
    }
   ],
   "source": [
    "import tensorflow as tf\n",
    "from tensorflow import keras\n",
    "import matplotlib.pyplot as plt\n",
    "import numpy as np\n",
    "%matplotlib inline\n"
   ]
  },
  {
   "cell_type": "code",
   "execution_count": 4,
   "id": "20d0c41c-14b1-4024-8e24-7e5aab7e70c4",
   "metadata": {},
   "outputs": [],
   "source": [
    "(X_train,y_train),(X_test,y_test) = keras.datasets.mnist.load_data()"
   ]
  },
  {
   "cell_type": "code",
   "execution_count": 5,
   "id": "f872c01c-d418-429a-a4d4-f015b561fd88",
   "metadata": {},
   "outputs": [
    {
     "data": {
      "text/plain": [
       "60000"
      ]
     },
     "execution_count": 5,
     "metadata": {},
     "output_type": "execute_result"
    }
   ],
   "source": [
    "len(X_train)"
   ]
  },
  {
   "cell_type": "code",
   "execution_count": 6,
   "id": "4afbebd7-f671-421d-845a-03e0f2108789",
   "metadata": {},
   "outputs": [
    {
     "data": {
      "text/plain": [
       "10000"
      ]
     },
     "execution_count": 6,
     "metadata": {},
     "output_type": "execute_result"
    }
   ],
   "source": [
    "len(X_test)"
   ]
  },
  {
   "cell_type": "code",
   "execution_count": 7,
   "id": "1355b9e4-19a1-41b4-a40a-656889e82dd9",
   "metadata": {},
   "outputs": [
    {
     "data": {
      "text/plain": [
       "(28, 28)"
      ]
     },
     "execution_count": 7,
     "metadata": {},
     "output_type": "execute_result"
    }
   ],
   "source": [
    "X_train[0].shape"
   ]
  },
  {
   "cell_type": "code",
   "execution_count": 8,
   "id": "fa2075f4-8e19-491f-baee-f2890294364f",
   "metadata": {},
   "outputs": [
    {
     "data": {
      "text/plain": [
       "5"
      ]
     },
     "execution_count": 8,
     "metadata": {},
     "output_type": "execute_result"
    }
   ],
   "source": [
    "y_train[0]"
   ]
  },
  {
   "cell_type": "code",
   "execution_count": 9,
   "id": "b3dcec8f-ab37-4dea-8881-21e0eb418b7b",
   "metadata": {},
   "outputs": [
    {
     "data": {
      "text/plain": [
       "<matplotlib.image.AxesImage at 0x167ac2610>"
      ]
     },
     "execution_count": 9,
     "metadata": {},
     "output_type": "execute_result"
    },
    {
     "data": {
      "image/png": "[encoded data removed]",
      "text/plain": [
       "<Figure size 480x480 with 1 Axes>"
      ]
     },
     "metadata": {},
     "output_type": "display_data"
    }
   ],
   "source": [
    "plt.matshow(X_train[0])"
   ]
  },
  {
   "cell_type": "code",
   "execution_count": 10,
   "id": "ba0e0f77-329c-46b8-86c8-66f459f8f537",
   "metadata": {},
   "outputs": [
    {
     "data": {
      "text/plain": [
       "array([5, 0, 4, 1, 9, 2, 1, 3, 1, 4], dtype=uint8)"
      ]
     },
     "execution_count": 10,
     "metadata": {},
     "output_type": "execute_result"
    }
   ],
   "source": [
    "y_train[:10]"
   ]
  },
  {
   "cell_type": "code",
   "execution_count": 11,
   "id": "34923b04-6dc7-48e8-8c1a-4539671a2df2",
   "metadata": {},
   "outputs": [
    {
     "data": {
      "text/plain": [
       "(60000, 28, 28)"
      ]
     },
     "execution_count": 11,
     "metadata": {},
     "output_type": "execute_result"
    }
   ],
   "source": [
    " X_train.shape"
   ]
  },
  {
   "cell_type": "code",
   "execution_count": 12,
   "id": "fce945a9-2ef3-46b3-8895-321be2d3a354",
   "metadata": {},
   "outputs": [],
   "source": [
    "X_train = X_train/255\n",
    "X_test  = X_test/255"
   ]
  },
  {
   "cell_type": "markdown",
   "id": "ac84a187-831e-4b8c-b665-0ed9ca29fd25",
   "metadata": {},
   "source": [
    "6000 is total numbers of data and each digit have 28 x 28 matrix"
   ]
  },
  {
   "cell_type": "markdown",
   "id": "6d758608-cad9-4181-9a6b-6e9faade15cb",
   "metadata": {},
   "source": [
    "So first we will make these 28 x 28 Matrix into a single columns matrix"
   ]
  },
  {
   "cell_type": "code",
   "execution_count": 13,
   "id": "d7db9b08-6193-4197-bf1b-5f0f9fbff53d",
   "metadata": {},
   "outputs": [],
   "source": [
    "single_matrix_for_X_train=X_train.reshape(len(X_train),28*28)# now we are converting this 28*28 matrix into a 1*1 matric\n",
    "single_matrix_for_X_test=X_test.reshape(len(X_test),28*28)# now we are converting this 28*28 matrix into a 1*1 matric"
   ]
  },
  {
   "cell_type": "code",
   "execution_count": 14,
   "id": "f3ab923f-c81f-49f9-888e-69be0bc3b52f",
   "metadata": {},
   "outputs": [
    {
     "data": {
      "text/plain": [
       "(60000, 784)"
      ]
     },
     "execution_count": 14,
     "metadata": {},
     "output_type": "execute_result"
    }
   ],
   "source": [
    "single_matrix_for_X_train.shape"
   ]
  },
  {
   "cell_type": "code",
   "execution_count": 15,
   "id": "0e0d1de1-a62c-48ee-b806-1ecccaf6933b",
   "metadata": {},
   "outputs": [
    {
     "data": {
      "text/plain": [
       "(10000, 784)"
      ]
     },
     "execution_count": 15,
     "metadata": {},
     "output_type": "execute_result"
    }
   ],
   "source": [
    "single_matrix_for_X_test.shape"
   ]
  },
  {
   "cell_type": "code",
   "execution_count": 16,
   "id": "789766cc-1eaf-4b66-9229-5deca0c58484",
   "metadata": {},
   "outputs": [
    {
     "name": "stderr",
     "output_type": "stream",
     "text": [
      "/opt/anaconda3/lib/python3.11/site-packages/keras/src/layers/core/dense.py:87: UserWarning: Do not pass an `input_shape`/`input_dim` argument to a layer. When using Sequential models, prefer using an `Input(shape)` object as the first layer in the model instead.\n",
      "  super().__init__(activity_regularizer=activity_regularizer, **kwargs)\n"
     ]
    }
   ],
   "source": [
    "#First we will define Sequential Model from keras and we will define the input layer total shape and output number as a 'Dense' .\n",
    "model = keras.Sequential([\n",
    "     keras.layers.Dense(10,input_shape=(784,),activation='sigmoid') #defining total outputs and total input Shapes you want in input neurals and then output means how many outputs do you want\n",
    " ])\n",
    "\n"
   ]
  },
  {
   "cell_type": "code",
   "execution_count": 17,
   "id": "7cb17c4b-ca84-43cc-8ea6-5ea071fb9000",
   "metadata": {},
   "outputs": [],
   "source": [
    "model.compile(optimizer='adam',\n",
    "             loss='sparse_categorical_crossentropy',\n",
    "             metrics = ['accuracy'] \n",
    "             )\n",
    "#2 Compiling the model with some params"
   ]
  },
  {
   "cell_type": "code",
   "execution_count": 18,
   "id": "e27e9a55-521a-4ff7-9f2d-f655e1f0c75c",
   "metadata": {},
   "outputs": [
    {
     "name": "stdout",
     "output_type": "stream",
     "text": [
      "Epoch 1/5\n",
      "\u001b[1m1875/1875\u001b[0m \u001b[32m━━━━━━━━━━━━━━━━━━━━\u001b[0m\u001b[37m\u001b[0m \u001b[1m4s\u001b[0m 2ms/step - accuracy: 0.8102 - loss: 0.7279\n",
      "Epoch 2/5\n",
      "\u001b[1m1875/1875\u001b[0m \u001b[32m━━━━━━━━━━━━━━━━━━━━\u001b[0m\u001b[37m\u001b[0m \u001b[1m3s\u001b[0m 2ms/step - accuracy: 0.9125 - loss: 0.3126\n",
      "Epoch 3/5\n",
      "\u001b[1m1875/1875\u001b[0m \u001b[32m━━━━━━━━━━━━━━━━━━━━\u001b[0m\u001b[37m\u001b[0m \u001b[1m3s\u001b[0m 2ms/step - accuracy: 0.9203 - loss: 0.2886\n",
      "Epoch 4/5\n",
      "\u001b[1m1875/1875\u001b[0m \u001b[32m━━━━━━━━━━━━━━━━━━━━\u001b[0m\u001b[37m\u001b[0m \u001b[1m4s\u001b[0m 2ms/step - accuracy: 0.9231 - loss: 0.2738\n",
      "Epoch 5/5\n",
      "\u001b[1m1875/1875\u001b[0m \u001b[32m━━━━━━━━━━━━━━━━━━━━\u001b[0m\u001b[37m\u001b[0m \u001b[1m3s\u001b[0m 2ms/step - accuracy: 0.9253 - loss: 0.2609\n"
     ]
    },
    {
     "data": {
      "text/plain": [
       "<keras.src.callbacks.history.History at 0x167b41490>"
      ]
     },
     "execution_count": 18,
     "metadata": {},
     "output_type": "execute_result"
    }
   ],
   "source": [
    "#3 Fiting the model with x,y and iterations\n",
    "model.fit(single_matrix_for_X_train, y_train, epochs=5)"
   ]
  },
  {
   "cell_type": "code",
   "execution_count": 23,
   "id": "5139737a-a40d-4ab9-9ee5-7b62a41cc1bd",
   "metadata": {},
   "outputs": [
    {
     "data": {
      "text/plain": [
       "<matplotlib.image.AxesImage at 0x16840f5d0>"
      ]
     },
     "execution_count": 23,
     "metadata": {},
     "output_type": "execute_result"
    },
    {
     "data": {
      "image/png": "[encoded data removed]",
      "text/plain": [
       "<Figure size 480x480 with 1 Axes>"
      ]
     },
     "metadata": {},
     "output_type": "display_data"
    }
   ],
   "source": [
    "plt.matshow(X_test[0]) #Now for testing we uses 0th index and it shows us output '7'"
   ]
  },
  {
   "cell_type": "code",
   "execution_count": 24,
   "id": "96b2c893-1a96-4691-adb8-ea0c4ff783cd",
   "metadata": {},
   "outputs": [
    {
     "name": "stdout",
     "output_type": "stream",
     "text": [
      "\u001b[1m313/313\u001b[0m \u001b[32m━━━━━━━━━━━━━━━━━━━━\u001b[0m\u001b[37m\u001b[0m \u001b[1m1s\u001b[0m 2ms/step\n"
     ]
    },
    {
     "data": {
      "text/plain": [
       "array([3.1375472e-02, 4.4850486e-07, 5.8866724e-02, 9.5312476e-01,\n",
       "       2.9664750e-03, 1.3111144e-01, 9.1853838e-07, 9.9973553e-01,\n",
       "       7.6663956e-02, 7.1658349e-01], dtype=float32)"
      ]
     },
     "execution_count": 24,
     "metadata": {},
     "output_type": "execute_result"
    }
   ],
   "source": [
    "y_predicted = model.predict(single_matrix_for_X_test) #We predict outputs for all 784 samples \n",
    "y_predicted[0]# Then we select 0th index for crosscheck and getting all outputs in single matix only"
   ]
  },
  {
   "cell_type": "markdown",
   "id": "b4f5f987-7521-4d92-8d62-ccbfcdf8f907",
   "metadata": {},
   "source": []
  },
  {
   "cell_type": "code",
   "execution_count": 45,
   "id": "4d875acb-a120-41c4-b9f9-90a0cfe29d09",
   "metadata": {},
   "outputs": [],
   "source": [
    "y_predicted_labels = [np.argmax(i) for i in y_predicted]"
   ]
  },
  {
   "cell_type": "code",
   "execution_count": 46,
   "id": "ffec6552-f24b-497e-88b7-c9afa0abc7c2",
   "metadata": {},
   "outputs": [
    {
     "data": {
      "text/plain": [
       "7"
      ]
     },
     "execution_count": 46,
     "metadata": {},
     "output_type": "execute_result"
    }
   ],
   "source": [
    "np.argmax(y_predicted[0]) #Asking Numpy that which index has the Maximum number. "
   ]
  },
  {
   "cell_type": "code",
   "execution_count": 57,
   "id": "385915af-4e4d-4f56-8487-ac68a1018cd4",
   "metadata": {},
   "outputs": [
    {
     "data": {
      "text/plain": [
       "<tf.Tensor: shape=(10, 10), dtype=int32, numpy=\n",
       "array([[ 963,    0,    2,    2,    0,    6,    3,    2,    1,    1],\n",
       "       [   0, 1117,    3,    2,    0,    1,    4,    2,    6,    0],\n",
       "       [   4,    9,  934,   17,    7,    5,   10,    9,   32,    5],\n",
       "       [   4,    0,   19,  913,    0,   37,    1,   10,   13,   13],\n",
       "       [   2,    2,    6,    1,  916,    0,    5,    4,    6,   40],\n",
       "       [  10,    2,    7,   20,    8,  807,    6,    4,   20,    8],\n",
       "       [  13,    3,   11,    1,    8,   29,  888,    2,    3,    0],\n",
       "       [   1,    9,   24,    6,    9,    1,    0,  931,    1,   46],\n",
       "       [   7,   13,    7,   23,   10,   42,    8,    9,  830,   25],\n",
       "       [  10,    7,    2,    9,   24,    8,    0,   10,    4,  935]],\n",
       "      dtype=int32)>"
      ]
     },
     "execution_count": 57,
     "metadata": {},
     "output_type": "execute_result"
    }
   ],
   "source": [
    "cm = tf.math.confusion_matrix(labels=y_test,predictions=y_predicted_labels)\n",
    "cm"
   ]
  },
  {
   "cell_type": "code",
   "execution_count": 58,
   "id": "e48bcccd-4229-4099-a9b9-04107e052e4c",
   "metadata": {},
   "outputs": [
    {
     "data": {
      "text/plain": [
       "Text(95.72222222222221, 0.5, 'Truth')"
      ]
     },
     "execution_count": 58,
     "metadata": {},
     "output_type": "execute_result"
    },
    {
     "data": {
      "image/png": "[encoded data removed]",
      "text/plain": [
       "<Figure size 1000x700 with 2 Axes>"
      ]
     },
     "metadata": {},
     "output_type": "display_data"
    }
   ],
   "source": []
  },
  {
   "cell_type": "markdown",
   "id": "926a1ed1-0928-4e66-b625-336ce5ad427a",
   "metadata": {},
   "source": [
    "# Using Hiddden layers"
   ]
  },
  {
   "cell_type": "code",
   "execution_count": 62,
   "id": "afdc7fe0-222a-4f75-a79a-e2f20ae23b78",
   "metadata": {},
   "outputs": [
    {
     "name": "stderr",
     "output_type": "stream",
     "text": [
      "/opt/anaconda3/lib/python3.11/site-packages/keras/src/layers/core/dense.py:87: UserWarning: Do not pass an `input_shape`/`input_dim` argument to a layer. When using Sequential models, prefer using an `Input(shape)` object as the first layer in the model instead.\n",
      "  super().__init__(activity_regularizer=activity_regularizer, **kwargs)\n"
     ]
    },
    {
     "name": "stdout",
     "output_type": "stream",
     "text": [
      "Epoch 1/5\n",
      "\u001b[1m1875/1875\u001b[0m \u001b[32m━━━━━━━━━━━━━━━━━━━━\u001b[0m\u001b[37m\u001b[0m \u001b[1m6s\u001b[0m 3ms/step - accuracy: 0.8723 - loss: 0.4532\n",
      "Epoch 2/5\n",
      "\u001b[1m1875/1875\u001b[0m \u001b[32m━━━━━━━━━━━━━━━━━━━━\u001b[0m\u001b[37m\u001b[0m \u001b[1m5s\u001b[0m 3ms/step - accuracy: 0.9612 - loss: 0.1329\n",
      "Epoch 3/5\n",
      "\u001b[1m1875/1875\u001b[0m \u001b[32m━━━━━━━━━━━━━━━━━━━━\u001b[0m\u001b[37m\u001b[0m \u001b[1m6s\u001b[0m 3ms/step - accuracy: 0.9734 - loss: 0.0896\n",
      "Epoch 4/5\n",
      "\u001b[1m1875/1875\u001b[0m \u001b[32m━━━━━━━━━━━━━━━━━━━━\u001b[0m\u001b[37m\u001b[0m \u001b[1m6s\u001b[0m 3ms/step - accuracy: 0.9806 - loss: 0.0663\n",
      "Epoch 5/5\n",
      "\u001b[1m1875/1875\u001b[0m \u001b[32m━━━━━━━━━━━━━━━━━━━━\u001b[0m\u001b[37m\u001b[0m \u001b[1m6s\u001b[0m 3ms/step - accuracy: 0.9832 - loss: 0.0537\n"
     ]
    },
    {
     "data": {
      "text/plain": [
       "<keras.src.callbacks.history.History at 0x16c36d710>"
      ]
     },
     "execution_count": 62,
     "metadata": {},
     "output_type": "execute_result"
    }
   ],
   "source": [
    "model = keras.Sequential([\n",
    "     keras.layers.Dense(100,input_shape=(784,),activation='relu'),# input , output layer\n",
    "    keras.layers.Dense(10,activation='sigmoid')#Hidden layer\n",
    " ])\n",
    "model.compile(optimizer='adam',\n",
    "             loss='sparse_categorical_crossentropy',\n",
    "             metrics = ['accuracy'] \n",
    "             )\n",
    "model.fit(single_matrix_for_X_train, y_train, epochs=5)"
   ]
  },
  {
   "cell_type": "code",
   "execution_count": 67,
   "id": "89b59651-1fa4-4f30-b9cc-dd397cf88136",
   "metadata": {},
   "outputs": [
    {
     "name": "stdout",
     "output_type": "stream",
     "text": [
      "\u001b[1m313/313\u001b[0m \u001b[32m━━━━━━━━━━━━━━━━━━━━\u001b[0m\u001b[37m\u001b[0m \u001b[1m1s\u001b[0m 2ms/step\n"
     ]
    }
   ],
   "source": [
    "#Storing all predicted samples which are for testing in 'y_predicted'\n",
    "y_predicted = model.predict(single_matrix_for_X_test)"
   ]
  },
  {
   "cell_type": "code",
   "execution_count": 73,
   "id": "f8557318-80be-468f-84be-653211c37419",
   "metadata": {},
   "outputs": [
    {
     "data": {
      "text/plain": [
       "array([3.2721192e-04, 9.9942410e-01, 5.6000142e-03, 8.9465883e-03,\n",
       "       9.0688337e-03, 4.3612087e-04, 2.0293512e-05, 3.3715823e-01,\n",
       "       2.7072724e-02, 4.4643492e-04], dtype=float32)"
      ]
     },
     "execution_count": 73,
     "metadata": {},
     "output_type": "execute_result"
    }
   ],
   "source": [
    "y_predicted[5] #Testing 0th element for normal cross checking ."
   ]
  },
  {
   "cell_type": "markdown",
   "id": "4b9022b1-f59b-4532-a4ac-ed829027a017",
   "metadata": {},
   "source": [
    "Now check which element among this are having Maximum Output \n",
    "answer is : 9.9994 which is 1rst element that means y_predicted[5]=1"
   ]
  },
  {
   "cell_type": "code",
   "execution_count": null,
   "id": "e9a40c8f-86a4-4892-a53b-4d8bcfd548a8",
   "metadata": {},
   "outputs": [],
   "source": []
  },
  {
   "cell_type": "code",
   "execution_count": null,
   "id": "9882c03d-40cc-4a7d-8331-ea3eca87d9ed",
   "metadata": {},
   "outputs": [],
   "source": []
  }
 ],
 "metadata": {
  "kernelspec": {
   "display_name": "Python 3 (ipykernel)",
   "language": "python",
   "name": "python3"
  },
  "language_info": {
   "codemirror_mode": {
    "name": "ipython",
    "version": 3
   },
   "file_extension": ".py",
   "mimetype": "text/x-python",
   "name": "python",
   "nbconvert_exporter": "python",
   "pygments_lexer": "ipython3",
   "version": "3.11.7"
  }
 },
 "nbformat": 4,
 "nbformat_minor": 5
}
